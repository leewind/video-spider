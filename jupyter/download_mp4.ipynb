{
 "cells": [
  {
   "cell_type": "code",
   "execution_count": 38,
   "metadata": {},
   "outputs": [],
   "source": [
    "# coding:utf8\n",
    "#参考：https://www.jianshu.com/p/6ca1344a09db\n",
    "import re\n",
    "import requests\n",
    "import random\n",
    "from zlib import crc32\n",
    "from base64 import b64decode\n",
    "import urllib\n",
    "import pymongo\n",
    "import pandas as pd\n",
    "from os import path"
   ]
  },
  {
   "cell_type": "code",
   "execution_count": 39,
   "metadata": {},
   "outputs": [],
   "source": [
    "headers = {\n",
    "    \"User-Agent\": \"Mozilla/5.0 (Windows NT 10.0; Win64; x64) AppleWebKit/537.36 (KHTHL, like Gecko) Chrome/66.0.3359.181 Safari/537.36\",\n",
    "}\n",
    "    \n",
    "def get_video_url_api(video_id='v02004190000bjqdaaq0ifkkoafl5rg0'):\n",
    "    '''取视蘋地iff所在包的uri'''\n",
    "    r = str(random.random())[2:]\n",
    "    url_part = \"/video/urls/v/l/toutiao/mp4/{}?r={}\".format(video_id, r) \n",
    "    s = crc32(url_part.encode())\n",
    "    url = \"https://ib.365yg.com{}&s={}\".format(url_part,s) \n",
    "    return url\n",
    " \n",
    "def get_video_url(url):\n",
    "    #获取视频地址\n",
    "    resp = requests.get(url, headers=headers) \n",
    "    j_resp = resp.json()\n",
    "    video_url = j_resp['data']['video_list']['video_1']['main_url'] \n",
    "    video_url = b64decode(video_url.encode()).decode() \n",
    "    return video_url\n",
    " \n",
    "def get_video_id(url):\n",
    "    #获取视频id\n",
    "    resp = requests.get(url, headers=headers)\n",
    "    # 获取video_id\n",
    "    print(resp.text)\n",
    "    search = re.search(\"\\\"vid\\\":\\\"([^\\\"]+)\\\",\", resp.text)\n",
    "    print(search.group(1))\n",
    "    return search.group(1)\n",
    " \n",
    "def main(video_id):\n",
    "    video_url_api = get_video_url_api(video_id)\n",
    "    video_url = get_video_url(video_url_api)\n",
    "    return video_url\n",
    "\n",
    "def downloadfile(filepath,url):\n",
    "    r=requests.get(url)\n",
    "    print(\"****Connected****\")\n",
    "    f=open(filepath,'wb');\n",
    "    print(\"Donloading.....\")\n",
    "    for chunk in r.iter_content(chunk_size=255): \n",
    "        if chunk: # filter out keep-alive new chunks\n",
    "            f.write(chunk)\n",
    "    print(\"Done\")\n",
    "    f.close()"
   ]
  },
  {
   "cell_type": "code",
   "execution_count": 40,
   "metadata": {},
   "outputs": [],
   "source": [
    "username_str = 'breadt'\n",
    "password_str = 'Breadt@2019'\n",
    "\n",
    "username = urllib.parse.quote_plus(username_str)\n",
    "password = urllib.parse.quote_plus(password_str)\n",
    "\n",
    "client = pymongo.MongoClient('mongodb://%s:%s@192.168.31.87:27017/' % (username, password))\n",
    "db = client[\"ixigua\"]\n",
    "\n",
    "data = []\n",
    "for x in db['video_info'].find():\n",
    "    data.append(x['video_detail_info'])\n",
    "    \n",
    "client.close()"
   ]
  },
  {
   "cell_type": "code",
   "execution_count": 41,
   "metadata": {},
   "outputs": [],
   "source": [
    "df = pd.DataFrame(data)"
   ]
  },
  {
   "cell_type": "code",
   "execution_count": null,
   "metadata": {},
   "outputs": [
    {
     "name": "stdout",
     "output_type": "stream",
     "text": [
      "v03004bf0000bnqfk9fn07oung841360\n",
      "****Connected****\n",
      "Donloading.....\n",
      "Done\n",
      "v02004e60000bnmv787qaba4i3j26om0\n",
      "****Connected****\n",
      "Donloading.....\n",
      "Done\n",
      "v02004b90000bngmk5c81ukugp8i5k30\n",
      "****Connected****\n",
      "Donloading.....\n",
      "Done\n",
      "v02004970000bn3ibhgm4cipb8vipbog\n"
     ]
    }
   ],
   "source": [
    "for index, item in df.iterrows():\n",
    "    filename = item['video_id'] + '.mp4'\n",
    "    filepath = '../video/' + filename\n",
    "    \n",
    "    if not path.exists(filepath):\n",
    "        print(item['video_id'])\n",
    "        url = main(item['video_id'])\n",
    "        downloadfile(filepath, url)\n"
   ]
  },
  {
   "cell_type": "code",
   "execution_count": null,
   "metadata": {},
   "outputs": [],
   "source": []
  }
 ],
 "metadata": {
  "kernelspec": {
   "display_name": "Python 3",
   "language": "python",
   "name": "python3"
  },
  "language_info": {
   "codemirror_mode": {
    "name": "ipython",
    "version": 3
   },
   "file_extension": ".py",
   "mimetype": "text/x-python",
   "name": "python",
   "nbconvert_exporter": "python",
   "pygments_lexer": "ipython3",
   "version": "3.7.4"
  }
 },
 "nbformat": 4,
 "nbformat_minor": 2
}
